{
 "cells": [
  {
   "cell_type": "code",
   "execution_count": 19,
   "metadata": {},
   "outputs": [],
   "source": [
    "import numpy as np\n",
    "import pandas as pd\n",
    "import matplotlib.pyplot as plt\n",
    "import seaborn as sns"
   ]
  },
  {
   "cell_type": "markdown",
   "metadata": {},
   "source": [
    "# Handwritten numbers task"
   ]
  },
  {
   "cell_type": "code",
   "execution_count": 20,
   "metadata": {},
   "outputs": [],
   "source": [
    "# Loading the data\n",
    "def load_mnist_images(filename, num_images, image_shape=(28, 28)):\n",
    "    with open(filename, 'rb') as f:\n",
    "        f.read(16)  # skip header\n",
    "        data = np.frombuffer(f.read(), dtype=np.uint8)\n",
    "        return data.reshape((num_images, *image_shape))\n",
    "\n",
    "def load_mnist_labels(filename, num_labels):\n",
    "    with open(filename, 'rb') as f:\n",
    "        f.read(8)  # skip header\n",
    "        return np.frombuffer(f.read(), dtype=np.uint8)\n",
    "    \n",
    "# Set constants\n",
    "num_train = 60000\n",
    "num_test = 10000\n",
    "image_shape = (28, 28)\n",
    "\n",
    "# Load the data\n",
    "train_images = load_mnist_images(\"train_images.bin\", num_train, image_shape)\n",
    "train_labels = load_mnist_labels(\"train_labels.bin\", num_train)\n",
    "\n",
    "test_images = load_mnist_images(\"test_images.bin\", num_test, image_shape)\n",
    "test_labels = load_mnist_labels(\"test_labels.bin\", num_test)"
   ]
  },
  {
   "cell_type": "code",
   "execution_count": 21,
   "metadata": {},
   "outputs": [
    {
     "data": {
      "image/png": "[encoded data removed]",
      "text/plain": [
       "<Figure size 640x480 with 1 Axes>"
      ]
     },
     "metadata": {},
     "output_type": "display_data"
    }
   ],
   "source": [
    "# Visualizing a digit to chech the data loading\n",
    "plt.imshow(train_images[0])\n",
    "plt.title(f\"Label: {train_labels[0]}\")\n",
    "plt.axis('off')\n",
    "plt.show()"
   ]
  }
 ],
 "metadata": {
  "kernelspec": {
   "display_name": "Python 3",
   "language": "python",
   "name": "python3"
  },
  "language_info": {
   "codemirror_mode": {
    "name": "ipython",
    "version": 3
   },
   "file_extension": ".py",
   "mimetype": "text/x-python",
   "name": "python",
   "nbconvert_exporter": "python",
   "pygments_lexer": "ipython3",
   "version": "3.12.1"
  }
 },
 "nbformat": 4,
 "nbformat_minor": 2
}
